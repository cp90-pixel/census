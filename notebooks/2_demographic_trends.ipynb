{
 "cells": [
  {
   "cell_type": "markdown",
   "id": "723e4c24",
   "metadata": {},
   "source": [
    "# Analyzing Demographic Trends\n",
    "\n",
    "This notebook demonstrates how to analyze demographic trends using Census data. We'll focus on:\n",
    "- Population changes over time\n",
    "- Age distribution analysis\n",
    "- Income and poverty trends\n",
    "- Educational attainment changes"
   ]
  },
  {
   "cell_type": "code",
   "execution_count": null,
   "id": "0522bf96",
   "metadata": {},
   "outputs": [],
   "source": [
    "# Import required libraries\n",
    "import os\n",
    "import pandas as pd\n",
    "import numpy as np\n",
    "import matplotlib.pyplot as plt\n",
    "from census import Census\n",
    "import seaborn as sns\n",
    "\n",
    "# Set plotting style\n",
    "plt.style.use('seaborn')\n",
    "%matplotlib inline\n",
    "\n",
    "# Initialize Census API\n",
    "api_key = os.getenv('CENSUS_API_KEY')\n",
    "if not api_key:\n",
    "    api_key = input('Enter your Census API key: ')\n",
    "c = Census(api_key)"
   ]
  },
  {
   "cell_type": "markdown",
   "id": "4b5ca043",
   "metadata": {},
   "source": [
    "## Population Changes Over Time\n",
    "\n",
    "Let's analyze population changes across multiple years to identify trends and patterns."
   ]
  },
  {
   "cell_type": "code",
   "execution_count": null,
   "id": "3abf4e81",
   "metadata": {},
   "outputs": [],
   "source": [
    "def get_state_population(year):\n",
    "    \"\"\"Get population for all states in a given year\"\"\"\n",
    "    data = c.acs5.state(('NAME', 'B01003_001E'), '*', year=year)\n",
    "    df = pd.DataFrame(data)\n",
    "    df['year'] = year\n",
    "    df = df.rename(columns={'B01003_001E': 'population'})\n",
    "    return df\n",
    "\n",
    "# Get population data for multiple years\n",
    "years = range(2015, 2020)\n",
    "population_data = pd.concat([get_state_population(year) for year in years])\n",
    "population_data['population'] = pd.to_numeric(population_data['population'])\n",
    "\n",
    "# Pivot the data for easier trending\n",
    "pop_trend = population_data.pivot(index='NAME', columns='year', values='population')\n",
    "\n",
    "# Calculate growth rates\n",
    "pop_trend['growth_rate'] = (pop_trend[2019] - pop_trend[2015]) / pop_trend[2015] * 100\n",
    "\n",
    "# Show top 5 fastest growing states\n",
    "print(\"Top 5 Fastest Growing States (2015-2019):\")\n",
    "print(pop_trend.nlargest(5, 'growth_rate')[['growth_rate']])"
   ]
  },
  {
   "cell_type": "markdown",
   "id": "7859555c",
   "metadata": {},
   "source": [
    "## Age Distribution Analysis\n",
    "\n",
    "Understanding the age structure of populations is crucial for many stories, from education to healthcare."
   ]
  },
  {
   "cell_type": "code",
   "execution_count": null,
   "id": "45810bb6",
   "metadata": {},
   "outputs": [],
   "source": [
    "# Get age distribution data\n",
    "age_vars = {\n",
    "    'B01001_003E': 'under_5',\n",
    "    'B01001_004E': '5_to_9',\n",
    "    'B01001_005E': '10_to_14',\n",
    "    'B01001_006E': '15_to_17',\n",
    "    'B01001_007E': '18_to_19',\n",
    "    'B01001_008E': '20_to_24',\n",
    "    'B01001_009E': '25_to_29',\n",
    "    'B01001_010E': '30_to_34'\n",
    "}\n",
    "\n",
    "variables = ['NAME'] + list(age_vars.keys())\n",
    "age_data = c.acs5.state(variables, '*', year=2019)\n",
    "age_df = pd.DataFrame(age_data)\n",
    "\n",
    "# Rename columns\n",
    "for code, name in age_vars.items():\n",
    "    age_df[name] = pd.to_numeric(age_df[code])\n",
    "    age_df = age_df.drop(columns=[code])\n",
    "\n",
    "# Calculate percentages\n",
    "total = age_df[list(age_vars.values())].sum(axis=1)\n",
    "for col in age_vars.values():\n",
    "    age_df[f'{col}_pct'] = age_df[col] / total * 100\n",
    "\n",
    "# Show states with highest percentage of young people (under 18)\n",
    "young_cols = ['under_5_pct', '5_to_9_pct', '10_to_14_pct', '15_to_17_pct']\n",
    "age_df['youth_percentage'] = age_df[young_cols].sum(axis=1)\n",
    "\n",
    "print(\"\\nStates with Highest Youth Population Percentage:\")\n",
    "print(age_df.nlargest(5, 'youth_percentage')[['NAME', 'youth_percentage']])"
   ]
  },
  {
   "cell_type": "markdown",
   "id": "4a56d14d",
   "metadata": {},
   "source": [
    "## Income and Poverty Trends\n",
    "\n",
    "Analyzing economic indicators across different geographic areas and over time."
   ]
  },
  {
   "cell_type": "code",
   "execution_count": null,
   "id": "111d0509",
   "metadata": {},
   "outputs": [],
   "source": [
    "# Get income and poverty data\n",
    "income_vars = (\n",
    "    'NAME',\n",
    "    'B19013_001E',  # Median household income\n",
    "    'B17001_002E'   # Population in poverty\n",
    ")\n",
    "\n",
    "income_data = c.acs5.state(income_vars, '*', year=2019)\n",
    "income_df = pd.DataFrame(income_data)\n",
    "\n",
    "# Clean up the data\n",
    "income_df = income_df.rename(columns={\n",
    "    'B19013_001E': 'median_income',\n",
    "    'B17001_002E': 'poverty_pop'\n",
    "})\n",
    "\n",
    "income_df[['median_income', 'poverty_pop']] = \\\n",
    "    income_df[['median_income', 'poverty_pop']].apply(pd.to_numeric)\n",
    "\n",
    "# Sort by median income\n",
    "print(\"\\nTop 5 States by Median Household Income:\")\n",
    "print(income_df.nlargest(5, 'median_income')[['NAME', 'median_income']])"
   ]
  },
  {
   "cell_type": "markdown",
   "id": "a7c31682",
   "metadata": {},
   "source": [
    "## Educational Attainment Changes\n",
    "\n",
    "Track changes in educational attainment levels across different regions."
   ]
  },
  {
   "cell_type": "code",
   "execution_count": null,
   "id": "2e6e462d",
   "metadata": {},
   "outputs": [],
   "source": [
    "# Get educational attainment data\n",
    "edu_vars = {\n",
    "    'B15003_017E': 'high_school',\n",
    "    'B15003_021E': 'bachelors',\n",
    "    'B15003_022E': 'masters',\n",
    "    'B15003_023E': 'professional',\n",
    "    'B15003_024E': 'doctorate'\n",
    "}\n",
    "\n",
    "variables = ['NAME'] + list(edu_vars.keys())\n",
    "edu_data = c.acs5.state(variables, '*', year=2019)\n",
    "edu_df = pd.DataFrame(edu_data)\n",
    "\n",
    "# Clean up the data\n",
    "for code, name in edu_vars.items():\n",
    "    edu_df[name] = pd.to_numeric(edu_df[code])\n",
    "    edu_df = edu_df.drop(columns=[code])\n",
    "\n",
    "# Calculate percentage with bachelor's degree or higher\n",
    "edu_df['higher_education'] = edu_df[['bachelors', 'masters', 'professional', 'doctorate']].sum(axis=1)\n",
    "\n",
    "# Show top states by higher education\n",
    "print(\"\\nTop 5 States by Percentage with Bachelor's Degree or Higher:\")\n",
    "print(edu_df.nlargest(5, 'higher_education')[['NAME', 'higher_education']])"
   ]
  },
  {
   "cell_type": "markdown",
   "id": "a1cf167c",
   "metadata": {},
   "source": [
    "## Exporting Results\n",
    "\n",
    "Save your analysis results for use in your stories."
   ]
  }
 ],
 "metadata": {
  "language_info": {
   "name": "python"
  }
 },
 "nbformat": 4,
 "nbformat_minor": 5
}
