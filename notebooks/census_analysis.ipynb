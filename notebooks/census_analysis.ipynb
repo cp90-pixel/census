{
 "cells": [
  {
   "cell_type": "markdown",
   "id": "8c402369",
   "metadata": {},
   "source": [
    "# U.S. Census Data Analysis for Journalists\n",
    "\n",
    "This notebook provides tools and examples for journalists to analyze and visualize U.S. Census Bureau data. You'll learn how to:\n",
    "- Access the Census Bureau API\n",
    "- Retrieve demographic data\n",
    "- Process population statistics\n",
    "- Create visualizations\n",
    "- Export data in various formats\n",
    "\n",
    "First, let's set up our environment and import the required libraries."
   ]
  },
  {
   "cell_type": "code",
   "execution_count": null,
   "id": "7f2bf32b",
   "metadata": {},
   "outputs": [],
   "source": [
    "# Import required libraries\n",
    "import os\n",
    "import pandas as pd\n",
    "import numpy as np\n",
    "import matplotlib.pyplot as plt\n",
    "from census import Census\n",
    "import requests\n",
    "\n",
    "# Set plotting style\n",
    "plt.style.use('seaborn')\n",
    "%matplotlib inline"
   ]
  },
  {
   "cell_type": "markdown",
   "id": "d4bc9c05",
   "metadata": {},
   "source": [
    "## 1. Configure Census API Access\n",
    "\n",
    "To access the Census Bureau API, you'll need an API key. You can get one for free at:\n",
    "https://api.census.gov/data/key_signup.html\n",
    "\n",
    "Once you have your key, you can either:\n",
    "1. Set it as an environment variable: `export CENSUS_API_KEY=your_key_here`\n",
    "2. Or enter it directly in the notebook (less secure)"
   ]
  },
  {
   "cell_type": "code",
   "execution_count": null,
   "id": "306e4778",
   "metadata": {},
   "outputs": [],
   "source": [
    "# Get Census API key from environment variable\n",
    "api_key = os.getenv('CENSUS_API_KEY')\n",
    "\n",
    "# If not set in environment, you can enter it here\n",
    "if not api_key:\n",
    "    api_key = input('Enter your Census API key: ')\n",
    "\n",
    "# Initialize Census API client\n",
    "c = Census(api_key)\n",
    "\n",
    "# Test the connection by getting a simple query\n",
    "try:\n",
    "    # Get total population for California (state code 06)\n",
    "    ca_pop = c.acs5.state(('NAME', 'B01003_001E'), '06', year=2019)\n",
    "    print(f\"Connection successful! Example data:\")\n",
    "    print(f\"California population (2019 ACS5): {int(ca_pop[0]['B01003_001E']):,}\")"
   ]
  },
  {
   "cell_type": "markdown",
   "id": "e19439a1",
   "metadata": {},
   "source": [
    "## 2. Fetch Demographic Data\n",
    "\n",
    "Now that we're connected to the Census API, let's fetch some demographic data. We'll start with a basic example of getting population and demographic information for all states."
   ]
  },
  {
   "cell_type": "code",
   "execution_count": null,
   "id": "25799cab",
   "metadata": {},
   "outputs": [],
   "source": [
    "# Define variables we want to retrieve\n",
    "# B01003_001E: Total population\n",
    "# B19013_001E: Median household income\n",
    "# B01002_001E: Median age\n",
    "variables = ('NAME', 'B01003_001E', 'B19013_001E', 'B01002_001E')\n",
    "\n",
    "# Get data for all states\n",
    "states_data = c.acs5.state(variables, '*', year=2019)\n",
    "\n",
    "# Convert to DataFrame\n",
    "df = pd.DataFrame(states_data)\n",
    "\n",
    "# Rename columns for clarity\n",
    "df = df.rename(columns={\n",
    "    'B01003_001E': 'population',\n",
    "    'B19013_001E': 'median_household_income',\n",
    "    'B01002_001E': 'median_age'\n",
    "})\n",
    "\n",
    "# Convert numeric columns\n",
    "df[['population', 'median_household_income', 'median_age']] = \\\n",
    "    df[['population', 'median_household_income', 'median_age']].apply(pd.to_numeric)\n",
    "\n",
    "# Show the first few rows\n",
    "print(\"Top 5 states by population:\")\n",
    "print(df.nlargest(5, 'population')[['NAME', 'population', 'median_household_income', 'median_age']])"
   ]
  },
  {
   "cell_type": "markdown",
   "id": "3f743d0c",
   "metadata": {},
   "source": [
    "## 3. Process Population Statistics\n",
    "\n",
    "Let's analyze the population data to find interesting patterns and calculate some key statistics that could be useful for stories."
   ]
  },
  {
   "cell_type": "code",
   "execution_count": null,
   "id": "271aeee3",
   "metadata": {},
   "outputs": [],
   "source": [
    "# Calculate key statistics\n",
    "total_us_population = df['population'].sum()\n",
    "avg_state_population = df['population'].mean()\n",
    "median_state_population = df['population'].median()\n",
    "population_std = df['population'].std()\n",
    "\n",
    "# Print summary statistics\n",
    "print(f\"U.S. Population Statistics (2019 ACS5):\")\n",
    "print(f\"Total Population: {total_us_population:,}\")\n",
    "print(f\"Average State Population: {avg_state_population:,.0f}\")\n",
    "print(f\"Median State Population: {median_state_population:,.0f}\")\n",
    "print(f\"Population Standard Deviation: {population_std:,.0f}\")\n",
    "\n",
    "# Calculate per-state percentage of total population\n",
    "df['population_percentage'] = (df['population'] / total_us_population * 100)\n",
    "\n",
    "# Show states with highest and lowest population percentages\n",
    "print(\"\\nStates with highest population percentage:\")\n",
    "print(df.nlargest(5, 'population_percentage')[['NAME', 'population_percentage']].round(2))\n",
    "\n",
    "print(\"\\nStates with lowest population percentage:\")\n",
    "print(df.nsmallest(5, 'population_percentage')[['NAME', 'population_percentage']].round(2))"
   ]
  },
  {
   "cell_type": "markdown",
   "id": "a671aad4",
   "metadata": {},
   "source": [
    "## 4. Create Visualizations\n",
    "\n",
    "Let's create some visualizations to help tell stories with this data. We'll make a few different types of plots that are commonly used in news articles."
   ]
  },
  {
   "cell_type": "code",
   "execution_count": null,
   "id": "f0364b6d",
   "metadata": {},
   "outputs": [],
   "source": [
    "# Create a bar plot of the top 10 states by population\n",
    "plt.figure(figsize=(12, 6))\n",
    "top_10_states = df.nlargest(10, 'population')\n",
    "plt.bar(top_10_states['NAME'], top_10_states['population'])\n",
    "plt.xticks(rotation=45, ha='right')\n",
    "plt.title('Top 10 States by Population (2019)')\n",
    "plt.ylabel('Population')\n",
    "plt.grid(True, alpha=0.3)\n",
    "plt.tight_layout()\n",
    "plt.show()\n",
    "\n",
    "# Create a scatter plot of population vs median household income\n",
    "plt.figure(figsize=(12, 6))\n",
    "plt.scatter(df['population'], df['median_household_income'])\n",
    "plt.xlabel('Population')\n",
    "plt.ylabel('Median Household Income ($)')\n",
    "plt.title('State Population vs Median Household Income (2019)')\n",
    "plt.grid(True, alpha=0.3)\n",
    "\n",
    "# Add state labels for the top 5 populated states\n",
    "for idx, row in df.nlargest(5, 'population').iterrows():\n",
    "    plt.annotate(row['NAME'], \n",
    "                (row['population'], row['median_household_income']),\n",
    "                xytext=(5, 5), textcoords='offset points')\n",
    "\n",
    "plt.tight_layout()\n",
    "plt.show()"
   ]
  },
  {
   "cell_type": "markdown",
   "id": "789e10dc",
   "metadata": {},
   "source": [
    "## 5. Export Data\n",
    "\n",
    "Finally, let's export our processed data in formats that are easy to use in other tools or share with colleagues."
   ]
  },
  {
   "cell_type": "code",
   "execution_count": null,
   "id": "a21a107f",
   "metadata": {},
   "outputs": [],
   "source": [
    "# Create an output directory if it doesn't exist\n",
    "output_dir = '../output'\n",
    "if not os.path.exists(output_dir):\n",
    "    os.makedirs(output_dir)\n",
    "\n",
    "# Export to CSV\n",
    "csv_path = os.path.join(output_dir, 'state_demographics_2019.csv')\n",
    "df.to_csv(csv_path, index=False)\n",
    "print(f\"Data exported to CSV: {csv_path}\")\n",
    "\n",
    "# Export summary statistics to Excel\n",
    "excel_path = os.path.join(output_dir, 'state_demographics_summary_2019.xlsx')\n",
    "with pd.ExcelWriter(excel_path) as writer:\n",
    "    # Main data sheet\n",
    "    df.to_excel(writer, sheet_name='State Data', index=False)\n",
    "    \n",
    "    # Summary statistics sheet\n",
    "    summary_stats = pd.DataFrame({\n",
    "        'Metric': ['Total Population', 'Average State Population', 'Median State Population'],\n",
    "        'Value': [total_us_population, avg_state_population, median_state_population]\n",
    "    })\n",
    "    summary_stats.to_excel(writer, sheet_name='Summary Statistics', index=False)\n",
    "    \n",
    "print(f\"Summary report exported to Excel: {excel_path}\")\n",
    "\n",
    "# Save the visualizations\n",
    "plt.figure(figsize=(12, 6))\n",
    "top_10_states = df.nlargest(10, 'population')\n",
    "plt.bar(top_10_states['NAME'], top_10_states['population'])\n",
    "plt.xticks(rotation=45, ha='right')\n",
    "plt.title('Top 10 States by Population (2019)')\n",
    "plt.ylabel('Population')\n",
    "plt.grid(True, alpha=0.3)\n",
    "plt.tight_layout()\n",
    "plt.savefig(os.path.join(output_dir, 'top_10_states_population.png'), dpi=300, bbox_inches='tight')\n",
    "plt.close()\n",
    "\n",
    "print(f\"\\nAll files have been saved to the '{output_dir}' directory.\")"
   ]
  }
 ],
 "metadata": {
  "language_info": {
   "name": "python"
  }
 },
 "nbformat": 4,
 "nbformat_minor": 5
}
