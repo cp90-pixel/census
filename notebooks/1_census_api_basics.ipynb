{
 "cells": [
  {
   "cell_type": "markdown",
   "id": "13049b35",
   "metadata": {},
   "source": [
    "# Census API Basics\n",
    "\n",
    "This notebook demonstrates how to access and work with the Census Bureau API. You'll learn:\n",
    "- How to set up your Census API key\n",
    "- Basic API query structure\n",
    "- Different Census datasets available\n",
    "- Common data variables and their meanings"
   ]
  },
  {
   "cell_type": "code",
   "execution_count": null,
   "id": "f201db88",
   "metadata": {},
   "outputs": [],
   "source": [
    "# Import required libraries\n",
    "import os\n",
    "import pandas as pd\n",
    "from census import Census\n",
    "import requests\n",
    "\n",
    "# Set up warning handling\n",
    "import warnings\n",
    "warnings.filterwarnings('ignore')"
   ]
  },
  {
   "cell_type": "markdown",
   "id": "14ba1221",
   "metadata": {},
   "source": [
    "## Setting Up Your Census API Key\n",
    "\n",
    "To use the Census Bureau API, you need an API key. Get one for free at:\n",
    "https://api.census.gov/data/key_signup.html"
   ]
  },
  {
   "cell_type": "code",
   "execution_count": null,
   "id": "dc85f5ca",
   "metadata": {},
   "outputs": [],
   "source": [
    "# Get Census API key from environment variable\n",
    "api_key = os.getenv('CENSUS_API_KEY')\n",
    "\n",
    "# If not set in environment, you can enter it here\n",
    "if not api_key:\n",
    "    api_key = input('Enter your Census API key: ')\n",
    "\n",
    "# Initialize Census API client\n",
    "c = Census(api_key)"
   ]
  },
  {
   "cell_type": "markdown",
   "id": "2532ece9",
   "metadata": {},
   "source": [
    "## Available Census Datasets\n",
    "\n",
    "The Census Bureau provides several datasets:\n",
    "- ACS (American Community Survey): 1-year and 5-year estimates\n",
    "- Decennial Census: Complete count every 10 years\n",
    "- Population Estimates\n",
    "- Economic Indicators\n",
    "\n",
    "Let's explore how to access each type."
   ]
  },
  {
   "cell_type": "code",
   "execution_count": null,
   "id": "708e6ecd",
   "metadata": {},
   "outputs": [],
   "source": [
    "# Example queries for different datasets\n",
    "\n",
    "# 1. ACS 5-year estimates (most detailed, most reliable)\n",
    "acs5_example = c.acs5.state(('NAME', 'B01003_001E'), '06', year=2019)\n",
    "print(\"ACS 5-year estimate (2019) - California population:\")\n",
    "print(f\"{int(acs5_example[0]['B01003_001E']):,}\\n\")\n",
    "\n",
    "# 2. ACS 1-year estimates (most current, but less reliable for small areas)\n",
    "try:\n",
    "    acs1_example = c.acs1.state(('NAME', 'B01003_001E'), '06', year=2019)\n",
    "    print(\"ACS 1-year estimate (2019) - California population:\")\n",
    "    print(f\"{int(acs1_example[0]['B01003_001E']):,}\\n\")\n",
    "except:\n",
    "    print(\"ACS 1-year data not available for this query\\n\")\n",
    "\n",
    "# 3. Population estimates\n",
    "pop_example = c.pep.population(vars=('POP', 'NAME'), geo={'for': 'state:06'})\n",
    "print(\"Population estimate - California:\")\n",
    "print(f\"{int(pop_example[0]['POP']):,}\\n\")"
   ]
  },
  {
   "cell_type": "markdown",
   "id": "4e39190f",
   "metadata": {},
   "source": [
    "## Understanding Census Variables\n",
    "\n",
    "Census variables are coded. Here's how to find and use common variables:\n",
    "- B01003_001E: Total population\n",
    "- B19013_001E: Median household income\n",
    "- B01002_001E: Median age\n",
    "- B02001_002E: White alone population\n",
    "- B02001_003E: Black alone population"
   ]
  },
  {
   "cell_type": "code",
   "execution_count": null,
   "id": "fc8ff903",
   "metadata": {},
   "outputs": [],
   "source": [
    "# Let's create a function to fetch multiple variables at once\n",
    "def get_demographic_snapshot(state_fips):\n",
    "    variables = (\n",
    "        'NAME',\n",
    "        'B01003_001E',  # Total population\n",
    "        'B19013_001E',  # Median household income\n",
    "        'B01002_001E',  # Median age\n",
    "        'B02001_002E',  # White alone\n",
    "        'B02001_003E'   # Black alone\n",
    "    )\n",
    "    \n",
    "    data = c.acs5.state(variables, state_fips, year=2019)\n",
    "    return pd.DataFrame(data)\n",
    "\n",
    "# Get data for California (06) and New York (36)\n",
    "states = ['06', '36']\n",
    "all_data = pd.concat([get_demographic_snapshot(state) for state in states])\n",
    "\n",
    "# Clean up column names\n",
    "all_data = all_data.rename(columns={\n",
    "    'B01003_001E': 'total_population',\n",
    "    'B19013_001E': 'median_household_income',\n",
    "    'B01002_001E': 'median_age',\n",
    "    'B02001_002E': 'white_population',\n",
    "    'B02001_003E': 'black_population'\n",
    "})\n",
    "\n",
    "# Convert to numeric\n",
    "numeric_cols = ['total_population', 'median_household_income', 'median_age', \n",
    "                'white_population', 'black_population']\n",
    "all_data[numeric_cols] = all_data[numeric_cols].apply(pd.to_numeric)\n",
    "\n",
    "print(\"Demographic snapshot for California and New York:\")\n",
    "print(all_data)"
   ]
  },
  {
   "cell_type": "markdown",
   "id": "c564ef3a",
   "metadata": {},
   "source": [
    "## Error Handling and Best Practices\n",
    "\n",
    "1. Always check your API rate limits\n",
    "2. Use try/except blocks for robust code\n",
    "3. Cache results for frequently used queries\n",
    "4. Be mindful of data vintage (reference year)"
   ]
  },
  {
   "cell_type": "code",
   "execution_count": null,
   "id": "4d03d855",
   "metadata": {},
   "outputs": [],
   "source": [
    "# Example of proper error handling and caching\n",
    "import json\n",
    "from pathlib import Path\n",
    "import time\n",
    "\n",
    "def get_cached_data(cache_file, fetch_func):\n",
    "    # Check if cached data exists and is less than 1 day old\n",
    "    cache_path = Path(cache_file)\n",
    "    if cache_path.exists() and (time.time() - cache_path.stat().st_mtime < 86400):\n",
    "        with open(cache_file, 'r') as f:\n",
    "            return pd.DataFrame(json.load(f))\n",
    "    \n",
    "    # If no cache or old cache, fetch new data\n",
    "    try:\n",
    "        data = fetch_func()\n",
    "        # Save to cache\n",
    "        with open(cache_file, 'w') as f:\n",
    "            json.dump(data.to_dict(), f)\n",
    "        return data\n",
    "    except Exception as e:\n",
    "        print(f\"Error fetching data: {str(e)}\")\n",
    "        # If error occurs and cache exists, use old cache\n",
    "        if cache_path.exists():\n",
    "            with open(cache_file, 'r') as f:\n",
    "                return pd.DataFrame(json.load(f))\n",
    "        raise\n",
    "\n",
    "# Example usage\n",
    "def fetch_state_populations():\n",
    "    return pd.DataFrame(c.acs5.state(('NAME', 'B01003_001E'), '*', year=2019))\n",
    "\n",
    "# Get data with caching\n",
    "try:\n",
    "    pop_data = get_cached_data('../output/state_populations_cache.json', fetch_state_populations)\n",
    "    print(\"Successfully retrieved population data!\")\n",
    "    print(f\"Number of states/territories: {len(pop_data)}\")\n",
    "except Exception as e:\n",
    "    print(f\"Failed to retrieve data: {str(e)}\")"
   ]
  }
 ],
 "metadata": {
  "language_info": {
   "name": "python"
  }
 },
 "nbformat": 4,
 "nbformat_minor": 5
}
