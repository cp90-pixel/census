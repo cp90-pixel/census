{
 "cells": [
  {
   "cell_type": "markdown",
   "id": "c19a2fdf",
   "metadata": {},
   "source": [
    "# Census Data Visualization\n",
    "\n",
    "This notebook demonstrates various ways to visualize Census data for journalistic storytelling, including:\n",
    "- Maps and geographic visualizations\n",
    "- Time series plots\n",
    "- Comparative charts\n",
    "- Interactive visualizations"
   ]
  },
  {
   "cell_type": "code",
   "execution_count": null,
   "id": "65a6bfd2",
   "metadata": {},
   "outputs": [],
   "source": [
    "# Import required libraries\n",
    "import os\n",
    "import pandas as pd\n",
    "import numpy as np\n",
    "import matplotlib.pyplot as plt\n",
    "import seaborn as sns\n",
    "import plotly.express as px\n",
    "import plotly.graph_objects as go\n",
    "from census import Census\n",
    "import json\n",
    "import folium\n",
    "\n",
    "# Set up plotting defaults\n",
    "plt.style.use('seaborn')\n",
    "%matplotlib inline\n",
    "\n",
    "# Initialize Census API\n",
    "api_key = os.getenv('CENSUS_API_KEY')\n",
    "if not api_key:\n",
    "    api_key = input('Enter your Census API key: ')\n",
    "c = Census(api_key)"
   ]
  },
  {
   "cell_type": "markdown",
   "id": "1e4c03c0",
   "metadata": {},
   "source": [
    "## 1. Geographic Visualizations\n",
    "\n",
    "Creating maps to show geographic patterns in Census data."
   ]
  },
  {
   "cell_type": "code",
   "execution_count": null,
   "id": "5dd4680c",
   "metadata": {},
   "outputs": [],
   "source": [
    "# Get state population data\n",
    "pop_data = c.acs5.state(('NAME', 'B01003_001E'), '*', year=2019)\n",
    "pop_df = pd.DataFrame(pop_data)\n",
    "pop_df = pop_df.rename(columns={'B01003_001E': 'population'})\n",
    "pop_df['population'] = pd.to_numeric(pop_df['population'])\n",
    "\n",
    "# Create a choropleth map using plotly\n",
    "fig = px.choropleth(\n",
    "    pop_df,\n",
    "    locations=pop_df.index,\n",
    "    locationmode=\"USA-states\",\n",
    "    color=\"population\",\n",
    "    scope=\"usa\",\n",
    "    title=\"U.S. State Populations (2019)\",\n",
    "    color_continuous_scale=\"Viridis\"\n",
    ")\n",
    "fig.show()"
   ]
  },
  {
   "cell_type": "markdown",
   "id": "807ecc01",
   "metadata": {},
   "source": [
    "## 2. Time Series Visualizations\n",
    "\n",
    "Showing trends over time using line charts and area plots."
   ]
  },
  {
   "cell_type": "code",
   "execution_count": null,
   "id": "2796fdb6",
   "metadata": {},
   "outputs": [],
   "source": [
    "# Get population data for multiple years\n",
    "def get_population_by_year(year):\n",
    "    data = c.acs5.state(('NAME', 'B01003_001E'), ['06', '36', '48'], year=year)  # CA, NY, TX\n",
    "    df = pd.DataFrame(data)\n",
    "    df['year'] = year\n",
    "    df['population'] = pd.to_numeric(df['B01003_001E'])\n",
    "    return df\n",
    "\n",
    "# Collect data from 2015-2019\n",
    "years = range(2015, 2020)\n",
    "time_series_data = pd.concat([get_population_by_year(year) for year in years])\n",
    "\n",
    "# Create an interactive line plot\n",
    "fig = px.line(\n",
    "    time_series_data,\n",
    "    x='year',\n",
    "    y='population',\n",
    "    color='NAME',\n",
    "    title='Population Trends: California, New York, and Texas (2015-2019)'\n",
    ")\n",
    "fig.show()"
   ]
  },
  {
   "cell_type": "markdown",
   "id": "aae96995",
   "metadata": {},
   "source": [
    "## 3. Comparative Visualizations\n",
    "\n",
    "Creating charts that compare different metrics across states or regions."
   ]
  },
  {
   "cell_type": "code",
   "execution_count": null,
   "id": "68560dcf",
   "metadata": {},
   "outputs": [],
   "source": [
    "# Get income and education data\n",
    "variables = (\n",
    "    'NAME',\n",
    "    'B19013_001E',  # Median household income\n",
    "    'B15003_022E'   # Bachelor's degree\n",
    ")\n",
    "\n",
    "comp_data = c.acs5.state(variables, '*', year=2019)\n",
    "comp_df = pd.DataFrame(comp_data)\n",
    "comp_df = comp_df.rename(columns={\n",
    "    'B19013_001E': 'median_income',\n",
    "    'B15003_022E': 'bachelors_degree'\n",
    "})\n",
    "\n",
    "# Convert to numeric\n",
    "comp_df[['median_income', 'bachelors_degree']] = \\\n",
    "    comp_df[['median_income', 'bachelors_degree']].apply(pd.to_numeric)\n",
    "\n",
    "# Create a scatter plot with state labels\n",
    "fig = px.scatter(\n",
    "    comp_df,\n",
    "    x='median_income',\n",
    "    y='bachelors_degree',\n",
    "    text='NAME',\n",
    "    title=\"Median Income vs. Bachelor's Degree Holders by State\",\n",
    "    labels={\n",
    "        'median_income': 'Median Household Income ($)',\n",
    "        'bachelors_degree': \"Number of Bachelor's Degree Holders\"\n",
    "    }\n",
    ")\n",
    "fig.show()"
   ]
  },
  {
   "cell_type": "markdown",
   "id": "99263f0e",
   "metadata": {},
   "source": [
    "## 4. Distribution Visualizations\n",
    "\n",
    "Showing the distribution of various demographic metrics."
   ]
  },
  {
   "cell_type": "code",
   "execution_count": null,
   "id": "719d7abd",
   "metadata": {},
   "outputs": [],
   "source": [
    "# Get age distribution data\n",
    "age_vars = {\n",
    "    'B01001_003E': 'Under 5',\n",
    "    'B01001_004E': '5-9',\n",
    "    'B01001_005E': '10-14',\n",
    "    'B01001_006E': '15-17',\n",
    "    'B01001_007E': '18-19',\n",
    "    'B01001_008E': '20-24'\n",
    "}\n",
    "\n",
    "variables = ['NAME'] + list(age_vars.keys())\n",
    "age_data = c.acs5.state(['06'], year=2019)  # California\n",
    "age_df = pd.DataFrame(age_data)\n",
    "\n",
    "# Prepare data for visualization\n",
    "age_values = []\n",
    "age_groups = []\n",
    "for code, name in age_vars.items():\n",
    "    value = int(age_df.iloc[0][code])\n",
    "    age_values.append(value)\n",
    "    age_groups.append(name)\n",
    "\n",
    "# Create a bar chart\n",
    "fig = go.Figure(data=[\n",
    "    go.Bar(x=age_groups, y=age_values)\n",
    "])\n",
    "fig.update_layout(\n",
    "    title='Age Distribution in California (2019)',\n",
    "    xaxis_title='Age Group',\n",
    "    yaxis_title='Population'\n",
    ")\n",
    "fig.show()"
   ]
  },
  {
   "cell_type": "markdown",
   "id": "916bed50",
   "metadata": {},
   "source": [
    "## 5. Exporting Visualizations\n",
    "\n",
    "Save your visualizations in various formats for publication."
   ]
  },
  {
   "cell_type": "code",
   "execution_count": null,
   "id": "667d6d53",
   "metadata": {},
   "outputs": [],
   "source": [
    "# Create output directory if it doesn't exist\n",
    "output_dir = '../output'\n",
    "if not os.path.exists(output_dir):\n",
    "    os.makedirs(output_dir)\n",
    "\n",
    "# Save static versions of the visualizations\n",
    "def save_static_plots():\n",
    "    # Population map\n",
    "    plt.figure(figsize=(15, 10))\n",
    "    sns.scatterplot(data=pop_df, x='NAME', y='population')\n",
    "    plt.xticks(rotation=45, ha='right')\n",
    "    plt.title('State Populations (2019)')\n",
    "    plt.tight_layout()\n",
    "    plt.savefig(f'{output_dir}/state_populations.png', dpi=300, bbox_inches='tight')\n",
    "    \n",
    "    # Income vs Education scatter plot\n",
    "    plt.figure(figsize=(15, 10))\n",
    "    sns.scatterplot(data=comp_df, x='median_income', y='bachelors_degree')\n",
    "    plt.title('Median Income vs. Education Level')\n",
    "    plt.tight_layout()\n",
    "    plt.savefig(f'{output_dir}/income_vs_education.png', dpi=300, bbox_inches='tight')\n",
    "\n",
    "save_static_plots()\n",
    "print(f\"Visualizations saved to {output_dir}/\")"
   ]
  }
 ],
 "metadata": {
  "language_info": {
   "name": "python"
  }
 },
 "nbformat": 4,
 "nbformat_minor": 5
}
